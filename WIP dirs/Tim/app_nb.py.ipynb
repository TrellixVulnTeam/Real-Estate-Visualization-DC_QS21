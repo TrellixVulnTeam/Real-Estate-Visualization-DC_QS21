{
 "cells": [
  {
   "cell_type": "code",
   "execution_count": null,
   "metadata": {},
   "outputs": [],
   "source": [
    "from bson import Binary, Code, json_util\n",
    "from bson.json_util import dumps\n",
    "from flask import Flask, render_template, redirect\n",
    "from flask_restful import Resource, Api\n",
    "\n",
    "import json\n",
    "import pandas as pd\n",
    "import pymongo"
   ]
  },
  {
   "cell_type": "code",
   "execution_count": null,
   "metadata": {},
   "outputs": [],
   "source": [
    "conn = 'mongodb://localhost:27017'\n",
    "client = pymongo.MongoClient(conn)\n",
    "\n",
    "db = client.real_estate_dc\n",
    "collection = db.data\n",
    "\n",
    "app = Flask(__name__)\n",
    "api = Api(app)\n",
    "\n",
    "\n",
    "@app.route(\"/data\")\n",
    "def scraper():\n",
    "\n",
    "    collection.drop()\n",
    "\n",
    "    real_estate_list = pd.read_csv(\"input_data/real_estate.csv\")\n",
    "    real_estate_list = real_estate_list.rename(index=str, columns={\"$/SQUARE FEET\": \"SQUARE FEET 2\", \"URL (SEE http://www.redfin.com/buy-a-home/comparative-market-analysis FOR INFO ON PRICING)\": \"URL\"})\n",
    "    real_estate_list = real_estate_list.to_dict(orient=\"records\")\n",
    "\n",
    "    for doc in real_estate_list:\n",
    "        collection.insert_one(doc)\n",
    "    \n",
    "    # collection.insert_many(real_estate_list)\n",
    "\n",
    "    return redirect(\"..\")\n",
    "\n",
    "@app.route(\"/\")\n",
    "def home():\n",
    "    \n",
    "    # data = list(collection.find())\n",
    "    \n",
    "    return render_template(\"index.html\")\n",
    "\n",
    "class input_data(Resource):\n",
    "    def get(self):\n",
    "\n",
    "\n",
    "        items = collection.find()\n",
    "        return type([json.loads(json.dumps(item, indent=4, default=json_util.default))\n",
    "                for item in items])\n",
    "\n",
    "\n",
    "        # data = collection.find()\n",
    "\n",
    "        # return data\n",
    "\n",
    "\n",
    "        # for real_estate_document in real_estate_list:\n",
    "        #     collection.insert_one(real_estate_document)\n",
    "\n",
    "        # data = collection.find()\n",
    "        # return data\n",
    "\n",
    "api.add_resource(input_data, '/resource')\n",
    "\n",
    "\n",
    "# class HelloWorld(Resource):\n",
    "#     def get(self):\n",
    "#         return {'hello': 'world'}\n",
    "\n",
    "# api.add_resource(HelloWorld, '/resource')\n",
    "    \n",
    "\n",
    "    \n",
    "\n",
    "if __name__ == '__main__':\n",
    "    app.run()\n"
   ]
  },
  {
   "cell_type": "code",
   "execution_count": null,
   "metadata": {},
   "outputs": [],
   "source": [
    "items = collection.find()\n",
    "test = [json.loads(json.dumps(item, indent=4, default=json_util.default))\n",
    "                for item in items]"
   ]
  },
  {
   "cell_type": "code",
   "execution_count": null,
   "metadata": {},
   "outputs": [],
   "source": []
  }
 ],
 "metadata": {
  "kernelspec": {
   "display_name": "Python 3",
   "language": "python",
   "name": "python3"
  },
  "language_info": {
   "codemirror_mode": {
    "name": "ipython",
    "version": 3
   },
   "file_extension": ".py",
   "mimetype": "text/x-python",
   "name": "python",
   "nbconvert_exporter": "python",
   "pygments_lexer": "ipython3",
   "version": "3.6.4"
  }
 },
 "nbformat": 4,
 "nbformat_minor": 2
}
